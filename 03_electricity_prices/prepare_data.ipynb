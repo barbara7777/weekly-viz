{
 "cells": [
  {
   "cell_type": "code",
   "execution_count": 173,
   "metadata": {},
   "outputs": [],
   "source": [
    "from pyaxis import pyaxis\n",
    "import pandas as pd\n",
    "import numpy as np"
   ]
  },
  {
   "cell_type": "code",
   "execution_count": 196,
   "metadata": {},
   "outputs": [],
   "source": [
    "households = pyaxis.parse(uri=\"gospodinjski.PX\", encoding='windows-1250')\n",
    "households_data = households[\"DATA\"]"
   ]
  },
  {
   "cell_type": "code",
   "execution_count": 197,
   "metadata": {},
   "outputs": [
    {
     "data": {
      "text/html": [
       "<div>\n",
       "<style scoped>\n",
       "    .dataframe tbody tr th:only-of-type {\n",
       "        vertical-align: middle;\n",
       "    }\n",
       "\n",
       "    .dataframe tbody tr th {\n",
       "        vertical-align: top;\n",
       "    }\n",
       "\n",
       "    .dataframe thead th {\n",
       "        text-align: right;\n",
       "    }\n",
       "</style>\n",
       "<table border=\"1\" class=\"dataframe\">\n",
       "  <thead>\n",
       "    <tr style=\"text-align: right;\">\n",
       "      <th></th>\n",
       "      <th>STANDARDNA PORABNIŠKA SKUPINA (LETNA PORABA)</th>\n",
       "      <th>CENA</th>\n",
       "      <th>ČETRTLETJE</th>\n",
       "      <th>DATA</th>\n",
       "    </tr>\n",
       "  </thead>\n",
       "  <tbody>\n",
       "    <tr>\n",
       "      <th>0</th>\n",
       "      <td>DA (&lt;1000 KWh)</td>\n",
       "      <td>Energija</td>\n",
       "      <td>2012Q1</td>\n",
       "      <td>0.0627</td>\n",
       "    </tr>\n",
       "    <tr>\n",
       "      <th>1</th>\n",
       "      <td>DA (&lt;1000 KWh)</td>\n",
       "      <td>Energija</td>\n",
       "      <td>2012Q2</td>\n",
       "      <td>0.0656</td>\n",
       "    </tr>\n",
       "    <tr>\n",
       "      <th>2</th>\n",
       "      <td>DA (&lt;1000 KWh)</td>\n",
       "      <td>Energija</td>\n",
       "      <td>2012Q3</td>\n",
       "      <td>0.0673</td>\n",
       "    </tr>\n",
       "    <tr>\n",
       "      <th>3</th>\n",
       "      <td>DA (&lt;1000 KWh)</td>\n",
       "      <td>Energija</td>\n",
       "      <td>2012Q4</td>\n",
       "      <td>0.0671</td>\n",
       "    </tr>\n",
       "    <tr>\n",
       "      <th>4</th>\n",
       "      <td>DA (&lt;1000 KWh)</td>\n",
       "      <td>Energija</td>\n",
       "      <td>2013Q1</td>\n",
       "      <td>0.0644</td>\n",
       "    </tr>\n",
       "    <tr>\n",
       "      <th>...</th>\n",
       "      <td>...</td>\n",
       "      <td>...</td>\n",
       "      <td>...</td>\n",
       "      <td>...</td>\n",
       "    </tr>\n",
       "    <tr>\n",
       "      <th>1795</th>\n",
       "      <td>Slovenija</td>\n",
       "      <td>Z vsemi davki</td>\n",
       "      <td>2023Q2</td>\n",
       "      <td>0.19393</td>\n",
       "    </tr>\n",
       "    <tr>\n",
       "      <th>1796</th>\n",
       "      <td>Slovenija</td>\n",
       "      <td>Z vsemi davki</td>\n",
       "      <td>2023Q3</td>\n",
       "      <td>0.220235582020336</td>\n",
       "    </tr>\n",
       "    <tr>\n",
       "      <th>1797</th>\n",
       "      <td>Slovenija</td>\n",
       "      <td>Z vsemi davki</td>\n",
       "      <td>2023Q4</td>\n",
       "      <td>0.197421017418052</td>\n",
       "    </tr>\n",
       "    <tr>\n",
       "      <th>1798</th>\n",
       "      <td>Slovenija</td>\n",
       "      <td>Z vsemi davki</td>\n",
       "      <td>2024Q1</td>\n",
       "      <td>0.202542099757832</td>\n",
       "    </tr>\n",
       "    <tr>\n",
       "      <th>1799</th>\n",
       "      <td>Slovenija</td>\n",
       "      <td>Z vsemi davki</td>\n",
       "      <td>2024Q2</td>\n",
       "      <td>0.212052332997104</td>\n",
       "    </tr>\n",
       "  </tbody>\n",
       "</table>\n",
       "<p>1800 rows × 4 columns</p>\n",
       "</div>"
      ],
      "text/plain": [
       "     STANDARDNA PORABNIŠKA SKUPINA (LETNA PORABA)           CENA ČETRTLETJE  \\\n",
       "0                                  DA (<1000 KWh)       Energija     2012Q1   \n",
       "1                                  DA (<1000 KWh)       Energija     2012Q2   \n",
       "2                                  DA (<1000 KWh)       Energija     2012Q3   \n",
       "3                                  DA (<1000 KWh)       Energija     2012Q4   \n",
       "4                                  DA (<1000 KWh)       Energija     2013Q1   \n",
       "...                                           ...            ...        ...   \n",
       "1795                                    Slovenija  Z vsemi davki     2023Q2   \n",
       "1796                                    Slovenija  Z vsemi davki     2023Q3   \n",
       "1797                                    Slovenija  Z vsemi davki     2023Q4   \n",
       "1798                                    Slovenija  Z vsemi davki     2024Q1   \n",
       "1799                                    Slovenija  Z vsemi davki     2024Q2   \n",
       "\n",
       "                   DATA  \n",
       "0                0.0627  \n",
       "1                0.0656  \n",
       "2                0.0673  \n",
       "3                0.0671  \n",
       "4                0.0644  \n",
       "...                 ...  \n",
       "1795            0.19393  \n",
       "1796  0.220235582020336  \n",
       "1797  0.197421017418052  \n",
       "1798  0.202542099757832  \n",
       "1799  0.212052332997104  \n",
       "\n",
       "[1800 rows x 4 columns]"
      ]
     },
     "execution_count": 197,
     "metadata": {},
     "output_type": "execute_result"
    }
   ],
   "source": [
    "households_data"
   ]
  },
  {
   "cell_type": "code",
   "execution_count": 198,
   "metadata": {},
   "outputs": [
    {
     "name": "stdout",
     "output_type": "stream",
     "text": [
      "<class 'pandas.core.frame.DataFrame'>\n",
      "RangeIndex: 1800 entries, 0 to 1799\n",
      "Data columns (total 4 columns):\n",
      " #   Column                                        Non-Null Count  Dtype \n",
      "---  ------                                        --------------  ----- \n",
      " 0   STANDARDNA PORABNIŠKA SKUPINA (LETNA PORABA)  1800 non-null   object\n",
      " 1   CENA                                          1800 non-null   object\n",
      " 2   ČETRTLETJE                                    1800 non-null   object\n",
      " 3   DATA                                          1650 non-null   object\n",
      "dtypes: object(4)\n",
      "memory usage: 56.4+ KB\n"
     ]
    }
   ],
   "source": [
    "households_data.info()"
   ]
  },
  {
   "cell_type": "code",
   "execution_count": 199,
   "metadata": {},
   "outputs": [
    {
     "name": "stdout",
     "output_type": "stream",
     "text": [
      "EUR/kWh\n"
     ]
    }
   ],
   "source": [
    "data_units = households[\"METADATA\"][\"UNITS\"][0]\n",
    "print(data_units)"
   ]
  },
  {
   "cell_type": "code",
   "execution_count": 200,
   "metadata": {},
   "outputs": [],
   "source": [
    "households_data = households_data.rename(columns={\"DATA\": data_units})\n",
    "households_data[data_units] = households_data[data_units].astype(float)"
   ]
  },
  {
   "cell_type": "code",
   "execution_count": 201,
   "metadata": {},
   "outputs": [
    {
     "name": "stdout",
     "output_type": "stream",
     "text": [
      "<class 'pandas.core.frame.DataFrame'>\n",
      "RangeIndex: 1800 entries, 0 to 1799\n",
      "Data columns (total 4 columns):\n",
      " #   Column                                        Non-Null Count  Dtype  \n",
      "---  ------                                        --------------  -----  \n",
      " 0   STANDARDNA PORABNIŠKA SKUPINA (LETNA PORABA)  1800 non-null   object \n",
      " 1   CENA                                          1800 non-null   object \n",
      " 2   ČETRTLETJE                                    1800 non-null   object \n",
      " 3   EUR/kWh                                       1650 non-null   float64\n",
      "dtypes: float64(1), object(3)\n",
      "memory usage: 56.4+ KB\n"
     ]
    }
   ],
   "source": [
    "households_data.info()"
   ]
  },
  {
   "cell_type": "code",
   "execution_count": 202,
   "metadata": {},
   "outputs": [
    {
     "data": {
      "text/plain": [
       "CENA\n",
       "Energija                300\n",
       "Omrežnina               300\n",
       "Brez davkov             300\n",
       "Dodatki in prispevki    300\n",
       "Brez DDV                300\n",
       "Z vsemi davki           300\n",
       "Name: count, dtype: int64"
      ]
     },
     "execution_count": 202,
     "metadata": {},
     "output_type": "execute_result"
    }
   ],
   "source": [
    "households_data[\"CENA\"].value_counts()"
   ]
  },
  {
   "cell_type": "code",
   "execution_count": 203,
   "metadata": {},
   "outputs": [
    {
     "data": {
      "text/plain": [
       "STANDARDNA PORABNIŠKA SKUPINA (LETNA PORABA)\n",
       "DA (<1000 KWh)             300\n",
       "DB (1000 do <2500 KWh)     300\n",
       "DC (2500 do <5000 KWh)     300\n",
       "DD (5000 do <15000 KWh)    300\n",
       "DE ( >= 15000 KWh)         300\n",
       "Slovenija                  300\n",
       "Name: count, dtype: int64"
      ]
     },
     "execution_count": 203,
     "metadata": {},
     "output_type": "execute_result"
    }
   ],
   "source": [
    "households_data[\"STANDARDNA PORABNIŠKA SKUPINA (LETNA PORABA)\"].value_counts()"
   ]
  },
  {
   "cell_type": "code",
   "execution_count": 204,
   "metadata": {},
   "outputs": [
    {
     "data": {
      "text/plain": [
       "STANDARDNA PORABNIŠKA SKUPINA (LETNA PORABA)      0\n",
       "CENA                                              0\n",
       "ČETRTLETJE                                        0\n",
       "EUR/kWh                                         150\n",
       "dtype: int64"
      ]
     },
     "execution_count": 204,
     "metadata": {},
     "output_type": "execute_result"
    }
   ],
   "source": [
    "households_data.isna().sum()"
   ]
  },
  {
   "cell_type": "code",
   "execution_count": 206,
   "metadata": {},
   "outputs": [
    {
     "data": {
      "text/plain": [
       "STANDARDNA PORABNIŠKA SKUPINA (LETNA PORABA)\n",
       "Slovenija    150\n",
       "Name: count, dtype: int64"
      ]
     },
     "execution_count": 206,
     "metadata": {},
     "output_type": "execute_result"
    }
   ],
   "source": [
    "households_data[households_data[data_units].isna()][\"STANDARDNA PORABNIŠKA SKUPINA (LETNA PORABA)\"].value_counts()"
   ]
  },
  {
   "cell_type": "code",
   "execution_count": 186,
   "metadata": {},
   "outputs": [],
   "source": [
    "households_data = households_data.dropna()"
   ]
  },
  {
   "cell_type": "code",
   "execution_count": 187,
   "metadata": {},
   "outputs": [
    {
     "name": "stdout",
     "output_type": "stream",
     "text": [
      "<class 'pandas.core.frame.DataFrame'>\n",
      "Index: 1650 entries, 0 to 1799\n",
      "Data columns (total 4 columns):\n",
      " #   Column                                        Non-Null Count  Dtype  \n",
      "---  ------                                        --------------  -----  \n",
      " 0   STANDARDNA PORABNIŠKA SKUPINA (LETNA PORABA)  1650 non-null   object \n",
      " 1   CENA                                          1650 non-null   object \n",
      " 2   ČETRTLETJE                                    1650 non-null   object \n",
      " 3   EUR/kWh                                       1650 non-null   float64\n",
      "dtypes: float64(1), object(3)\n",
      "memory usage: 64.5+ KB\n"
     ]
    }
   ],
   "source": [
    "households_data.info()"
   ]
  },
  {
   "cell_type": "code",
   "execution_count": 188,
   "metadata": {},
   "outputs": [
    {
     "data": {
      "text/html": [
       "<div>\n",
       "<style scoped>\n",
       "    .dataframe tbody tr th:only-of-type {\n",
       "        vertical-align: middle;\n",
       "    }\n",
       "\n",
       "    .dataframe tbody tr th {\n",
       "        vertical-align: top;\n",
       "    }\n",
       "\n",
       "    .dataframe thead th {\n",
       "        text-align: right;\n",
       "    }\n",
       "</style>\n",
       "<table border=\"1\" class=\"dataframe\">\n",
       "  <thead>\n",
       "    <tr style=\"text-align: right;\">\n",
       "      <th></th>\n",
       "      <th>STANDARDNA PORABNIŠKA SKUPINA (LETNA PORABA)</th>\n",
       "      <th>CENA</th>\n",
       "      <th>ČETRTLETJE</th>\n",
       "      <th>EUR/kWh</th>\n",
       "    </tr>\n",
       "  </thead>\n",
       "  <tbody>\n",
       "    <tr>\n",
       "      <th>1600</th>\n",
       "      <td>Slovenija</td>\n",
       "      <td>Brez davkov</td>\n",
       "      <td>2012Q1</td>\n",
       "      <td>0.116000</td>\n",
       "    </tr>\n",
       "    <tr>\n",
       "      <th>1601</th>\n",
       "      <td>Slovenija</td>\n",
       "      <td>Brez davkov</td>\n",
       "      <td>2012Q2</td>\n",
       "      <td>0.118400</td>\n",
       "    </tr>\n",
       "    <tr>\n",
       "      <th>1602</th>\n",
       "      <td>Slovenija</td>\n",
       "      <td>Brez davkov</td>\n",
       "      <td>2012Q3</td>\n",
       "      <td>0.118700</td>\n",
       "    </tr>\n",
       "    <tr>\n",
       "      <th>1603</th>\n",
       "      <td>Slovenija</td>\n",
       "      <td>Brez davkov</td>\n",
       "      <td>2012Q4</td>\n",
       "      <td>0.116900</td>\n",
       "    </tr>\n",
       "    <tr>\n",
       "      <th>1604</th>\n",
       "      <td>Slovenija</td>\n",
       "      <td>Brez davkov</td>\n",
       "      <td>2013Q1</td>\n",
       "      <td>0.115200</td>\n",
       "    </tr>\n",
       "    <tr>\n",
       "      <th>...</th>\n",
       "      <td>...</td>\n",
       "      <td>...</td>\n",
       "      <td>...</td>\n",
       "      <td>...</td>\n",
       "    </tr>\n",
       "    <tr>\n",
       "      <th>1795</th>\n",
       "      <td>Slovenija</td>\n",
       "      <td>Z vsemi davki</td>\n",
       "      <td>2023Q2</td>\n",
       "      <td>0.193930</td>\n",
       "    </tr>\n",
       "    <tr>\n",
       "      <th>1796</th>\n",
       "      <td>Slovenija</td>\n",
       "      <td>Z vsemi davki</td>\n",
       "      <td>2023Q3</td>\n",
       "      <td>0.220236</td>\n",
       "    </tr>\n",
       "    <tr>\n",
       "      <th>1797</th>\n",
       "      <td>Slovenija</td>\n",
       "      <td>Z vsemi davki</td>\n",
       "      <td>2023Q4</td>\n",
       "      <td>0.197421</td>\n",
       "    </tr>\n",
       "    <tr>\n",
       "      <th>1798</th>\n",
       "      <td>Slovenija</td>\n",
       "      <td>Z vsemi davki</td>\n",
       "      <td>2024Q1</td>\n",
       "      <td>0.202542</td>\n",
       "    </tr>\n",
       "    <tr>\n",
       "      <th>1799</th>\n",
       "      <td>Slovenija</td>\n",
       "      <td>Z vsemi davki</td>\n",
       "      <td>2024Q2</td>\n",
       "      <td>0.212052</td>\n",
       "    </tr>\n",
       "  </tbody>\n",
       "</table>\n",
       "<p>150 rows × 4 columns</p>\n",
       "</div>"
      ],
      "text/plain": [
       "     STANDARDNA PORABNIŠKA SKUPINA (LETNA PORABA)           CENA ČETRTLETJE  \\\n",
       "1600                                    Slovenija    Brez davkov     2012Q1   \n",
       "1601                                    Slovenija    Brez davkov     2012Q2   \n",
       "1602                                    Slovenija    Brez davkov     2012Q3   \n",
       "1603                                    Slovenija    Brez davkov     2012Q4   \n",
       "1604                                    Slovenija    Brez davkov     2013Q1   \n",
       "...                                           ...            ...        ...   \n",
       "1795                                    Slovenija  Z vsemi davki     2023Q2   \n",
       "1796                                    Slovenija  Z vsemi davki     2023Q3   \n",
       "1797                                    Slovenija  Z vsemi davki     2023Q4   \n",
       "1798                                    Slovenija  Z vsemi davki     2024Q1   \n",
       "1799                                    Slovenija  Z vsemi davki     2024Q2   \n",
       "\n",
       "       EUR/kWh  \n",
       "1600  0.116000  \n",
       "1601  0.118400  \n",
       "1602  0.118700  \n",
       "1603  0.116900  \n",
       "1604  0.115200  \n",
       "...        ...  \n",
       "1795  0.193930  \n",
       "1796  0.220236  \n",
       "1797  0.197421  \n",
       "1798  0.202542  \n",
       "1799  0.212052  \n",
       "\n",
       "[150 rows x 4 columns]"
      ]
     },
     "execution_count": 188,
     "metadata": {},
     "output_type": "execute_result"
    }
   ],
   "source": [
    "households_data[households_data[\"STANDARDNA PORABNIŠKA SKUPINA (LETNA PORABA)\"] == \"Slovenija\"]\n",
    "\n",
    "# je to povprecje?"
   ]
  },
  {
   "cell_type": "code",
   "execution_count": 189,
   "metadata": {},
   "outputs": [
    {
     "data": {
      "text/html": [
       "<div>\n",
       "<style scoped>\n",
       "    .dataframe tbody tr th:only-of-type {\n",
       "        vertical-align: middle;\n",
       "    }\n",
       "\n",
       "    .dataframe tbody tr th {\n",
       "        vertical-align: top;\n",
       "    }\n",
       "\n",
       "    .dataframe thead th {\n",
       "        text-align: right;\n",
       "    }\n",
       "</style>\n",
       "<table border=\"1\" class=\"dataframe\">\n",
       "  <thead>\n",
       "    <tr style=\"text-align: right;\">\n",
       "      <th></th>\n",
       "      <th>STANDARDNA PORABNIŠKA SKUPINA (LETNA PORABA)</th>\n",
       "      <th>CENA</th>\n",
       "      <th>ČETRTLETJE</th>\n",
       "      <th>EUR/kWh</th>\n",
       "    </tr>\n",
       "  </thead>\n",
       "  <tbody>\n",
       "    <tr>\n",
       "      <th>1632</th>\n",
       "      <td>Slovenija</td>\n",
       "      <td>Brez davkov</td>\n",
       "      <td>2020Q1</td>\n",
       "      <td>0.104301</td>\n",
       "    </tr>\n",
       "    <tr>\n",
       "      <th>1732</th>\n",
       "      <td>Slovenija</td>\n",
       "      <td>Brez DDV</td>\n",
       "      <td>2020Q1</td>\n",
       "      <td>0.117706</td>\n",
       "    </tr>\n",
       "    <tr>\n",
       "      <th>1782</th>\n",
       "      <td>Slovenija</td>\n",
       "      <td>Z vsemi davki</td>\n",
       "      <td>2020Q1</td>\n",
       "      <td>0.143601</td>\n",
       "    </tr>\n",
       "  </tbody>\n",
       "</table>\n",
       "</div>"
      ],
      "text/plain": [
       "     STANDARDNA PORABNIŠKA SKUPINA (LETNA PORABA)           CENA ČETRTLETJE  \\\n",
       "1632                                    Slovenija    Brez davkov     2020Q1   \n",
       "1732                                    Slovenija       Brez DDV     2020Q1   \n",
       "1782                                    Slovenija  Z vsemi davki     2020Q1   \n",
       "\n",
       "       EUR/kWh  \n",
       "1632  0.104301  \n",
       "1732  0.117706  \n",
       "1782  0.143601  "
      ]
     },
     "execution_count": 189,
     "metadata": {},
     "output_type": "execute_result"
    }
   ],
   "source": [
    "primer_slo = households_data[(households_data[\"STANDARDNA PORABNIŠKA SKUPINA (LETNA PORABA)\"] == \"Slovenija\") & (households_data[\"ČETRTLETJE\"] == \"2020Q1\")]\n",
    "primer_slo"
   ]
  },
  {
   "cell_type": "code",
   "execution_count": 190,
   "metadata": {},
   "outputs": [],
   "source": [
    "primer_ostalo = households_data[(households_data[\"STANDARDNA PORABNIŠKA SKUPINA (LETNA PORABA)\"] != \"Slovenija\") & (households_data[\"ČETRTLETJE\"] == \"2020Q1\")]\n",
    "primer_ostalo = primer_ostalo.groupby(\"CENA\")[[data_units]].mean()"
   ]
  },
  {
   "cell_type": "code",
   "execution_count": 191,
   "metadata": {},
   "outputs": [
    {
     "data": {
      "text/html": [
       "<div>\n",
       "<style scoped>\n",
       "    .dataframe tbody tr th:only-of-type {\n",
       "        vertical-align: middle;\n",
       "    }\n",
       "\n",
       "    .dataframe tbody tr th {\n",
       "        vertical-align: top;\n",
       "    }\n",
       "\n",
       "    .dataframe thead th {\n",
       "        text-align: right;\n",
       "    }\n",
       "</style>\n",
       "<table border=\"1\" class=\"dataframe\">\n",
       "  <thead>\n",
       "    <tr style=\"text-align: right;\">\n",
       "      <th></th>\n",
       "      <th>STANDARDNA PORABNIŠKA SKUPINA (LETNA PORABA)</th>\n",
       "      <th>CENA</th>\n",
       "      <th>ČETRTLETJE</th>\n",
       "      <th>EUR/kWh</th>\n",
       "      <th>EUR/kWh_mean</th>\n",
       "      <th>diff</th>\n",
       "    </tr>\n",
       "  </thead>\n",
       "  <tbody>\n",
       "    <tr>\n",
       "      <th>0</th>\n",
       "      <td>Slovenija</td>\n",
       "      <td>Brez davkov</td>\n",
       "      <td>2020Q1</td>\n",
       "      <td>0.104301</td>\n",
       "      <td>0.116013</td>\n",
       "      <td>-0.011712</td>\n",
       "    </tr>\n",
       "    <tr>\n",
       "      <th>1</th>\n",
       "      <td>Slovenija</td>\n",
       "      <td>Brez DDV</td>\n",
       "      <td>2020Q1</td>\n",
       "      <td>0.117706</td>\n",
       "      <td>0.139638</td>\n",
       "      <td>-0.021932</td>\n",
       "    </tr>\n",
       "    <tr>\n",
       "      <th>2</th>\n",
       "      <td>Slovenija</td>\n",
       "      <td>Z vsemi davki</td>\n",
       "      <td>2020Q1</td>\n",
       "      <td>0.143601</td>\n",
       "      <td>0.170358</td>\n",
       "      <td>-0.026757</td>\n",
       "    </tr>\n",
       "  </tbody>\n",
       "</table>\n",
       "</div>"
      ],
      "text/plain": [
       "  STANDARDNA PORABNIŠKA SKUPINA (LETNA PORABA)           CENA ČETRTLETJE  \\\n",
       "0                                    Slovenija    Brez davkov     2020Q1   \n",
       "1                                    Slovenija       Brez DDV     2020Q1   \n",
       "2                                    Slovenija  Z vsemi davki     2020Q1   \n",
       "\n",
       "    EUR/kWh  EUR/kWh_mean      diff  \n",
       "0  0.104301      0.116013 -0.011712  \n",
       "1  0.117706      0.139638 -0.021932  \n",
       "2  0.143601      0.170358 -0.026757  "
      ]
     },
     "execution_count": 191,
     "metadata": {},
     "output_type": "execute_result"
    }
   ],
   "source": [
    "primer_together = primer_slo.merge(primer_ostalo.add_suffix(\"_mean\"), on=\"CENA\", how=\"inner\")\n",
    "primer_together[\"diff\"] = primer_together[data_units] - primer_together[f\"{data_units}_mean\"]\n",
    "primer_together"
   ]
  },
  {
   "cell_type": "code",
   "execution_count": 192,
   "metadata": {},
   "outputs": [
    {
     "data": {
      "text/html": [
       "<div>\n",
       "<style scoped>\n",
       "    .dataframe tbody tr th:only-of-type {\n",
       "        vertical-align: middle;\n",
       "    }\n",
       "\n",
       "    .dataframe tbody tr th {\n",
       "        vertical-align: top;\n",
       "    }\n",
       "\n",
       "    .dataframe thead th {\n",
       "        text-align: right;\n",
       "    }\n",
       "</style>\n",
       "<table border=\"1\" class=\"dataframe\">\n",
       "  <thead>\n",
       "    <tr style=\"text-align: right;\">\n",
       "      <th></th>\n",
       "      <th>STANDARDNA PORABNIŠKA SKUPINA (LETNA PORABA)</th>\n",
       "      <th>CENA</th>\n",
       "      <th>ČETRTLETJE</th>\n",
       "      <th>EUR/kWh</th>\n",
       "    </tr>\n",
       "  </thead>\n",
       "  <tbody>\n",
       "    <tr>\n",
       "      <th>0</th>\n",
       "      <td>DA (&lt;1000 KWh)</td>\n",
       "      <td>Energija</td>\n",
       "      <td>2012Q1</td>\n",
       "      <td>0.0627</td>\n",
       "    </tr>\n",
       "    <tr>\n",
       "      <th>1</th>\n",
       "      <td>DA (&lt;1000 KWh)</td>\n",
       "      <td>Energija</td>\n",
       "      <td>2012Q2</td>\n",
       "      <td>0.0656</td>\n",
       "    </tr>\n",
       "    <tr>\n",
       "      <th>2</th>\n",
       "      <td>DA (&lt;1000 KWh)</td>\n",
       "      <td>Energija</td>\n",
       "      <td>2012Q3</td>\n",
       "      <td>0.0673</td>\n",
       "    </tr>\n",
       "    <tr>\n",
       "      <th>3</th>\n",
       "      <td>DA (&lt;1000 KWh)</td>\n",
       "      <td>Energija</td>\n",
       "      <td>2012Q4</td>\n",
       "      <td>0.0671</td>\n",
       "    </tr>\n",
       "    <tr>\n",
       "      <th>4</th>\n",
       "      <td>DA (&lt;1000 KWh)</td>\n",
       "      <td>Energija</td>\n",
       "      <td>2013Q1</td>\n",
       "      <td>0.0644</td>\n",
       "    </tr>\n",
       "  </tbody>\n",
       "</table>\n",
       "</div>"
      ],
      "text/plain": [
       "  STANDARDNA PORABNIŠKA SKUPINA (LETNA PORABA)      CENA ČETRTLETJE  EUR/kWh\n",
       "0                               DA (<1000 KWh)  Energija     2012Q1   0.0627\n",
       "1                               DA (<1000 KWh)  Energija     2012Q2   0.0656\n",
       "2                               DA (<1000 KWh)  Energija     2012Q3   0.0673\n",
       "3                               DA (<1000 KWh)  Energija     2012Q4   0.0671\n",
       "4                               DA (<1000 KWh)  Energija     2013Q1   0.0644"
      ]
     },
     "execution_count": 192,
     "metadata": {},
     "output_type": "execute_result"
    }
   ],
   "source": [
    "households_data.head()"
   ]
  },
  {
   "cell_type": "code",
   "execution_count": 193,
   "metadata": {},
   "outputs": [],
   "source": [
    "households_data.loc[:, \"leto\"] = households_data[\"ČETRTLETJE\"].str[:4].astype(int)\n",
    "households_data.loc[:, \"cetrtletje\"] = households_data[\"ČETRTLETJE\"].str[-1].astype(int)"
   ]
  },
  {
   "cell_type": "code",
   "execution_count": 194,
   "metadata": {},
   "outputs": [],
   "source": [
    "households_data.to_csv(\"electricity_prices.csv\")"
   ]
  }
 ],
 "metadata": {
  "kernelspec": {
   "display_name": ".venv",
   "language": "python",
   "name": "python3"
  },
  "language_info": {
   "codemirror_mode": {
    "name": "ipython",
    "version": 3
   },
   "file_extension": ".py",
   "mimetype": "text/x-python",
   "name": "python",
   "nbconvert_exporter": "python",
   "pygments_lexer": "ipython3",
   "version": "3.10.4"
  }
 },
 "nbformat": 4,
 "nbformat_minor": 2
}
