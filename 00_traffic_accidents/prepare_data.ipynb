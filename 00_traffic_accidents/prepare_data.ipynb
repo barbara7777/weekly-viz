{
 "cells": [
  {
   "cell_type": "code",
   "execution_count": 26,
   "metadata": {},
   "outputs": [],
   "source": [
    "import pandas as pd\n",
    "import numpy as np\n",
    "from pyproj import Transformer"
   ]
  },
  {
   "cell_type": "code",
   "execution_count": 27,
   "metadata": {},
   "outputs": [
    {
     "data": {
      "text/plain": [
       "(33333, 35)"
      ]
     },
     "execution_count": 27,
     "metadata": {},
     "output_type": "execute_result"
    }
   ],
   "source": [
    "test_file_path = r\"pn2022.csv\"\n",
    "\n",
    "data = pd.read_csv(test_file_path, encoding=\"utf-8\", sep=\";\")\n",
    "data.shape"
   ]
  },
  {
   "cell_type": "code",
   "execution_count": 28,
   "metadata": {},
   "outputs": [
    {
     "data": {
      "text/html": [
       "<div>\n",
       "<style scoped>\n",
       "    .dataframe tbody tr th:only-of-type {\n",
       "        vertical-align: middle;\n",
       "    }\n",
       "\n",
       "    .dataframe tbody tr th {\n",
       "        vertical-align: top;\n",
       "    }\n",
       "\n",
       "    .dataframe thead th {\n",
       "        text-align: right;\n",
       "    }\n",
       "</style>\n",
       "<table border=\"1\" class=\"dataframe\">\n",
       "  <thead>\n",
       "    <tr style=\"text-align: right;\">\n",
       "      <th></th>\n",
       "      <th>ZaporednaStevilkaPN</th>\n",
       "      <th>KlasifikacijaNesrece</th>\n",
       "      <th>UpravnaEnotaStoritve</th>\n",
       "      <th>DatumPN</th>\n",
       "      <th>UraPN</th>\n",
       "      <th>VNaselju</th>\n",
       "      <th>Lokacija</th>\n",
       "      <th>VrstaCesteNaselja</th>\n",
       "      <th>SifraCesteNaselja</th>\n",
       "      <th>TekstCesteNaselja</th>\n",
       "      <th>...</th>\n",
       "      <th>Spol</th>\n",
       "      <th>UEStalnegaPrebivalisca</th>\n",
       "      <th>Drzavljanstvo</th>\n",
       "      <th>PoskodbaUdelezenca</th>\n",
       "      <th>VrstaUdelezenca</th>\n",
       "      <th>UporabaVarnostnegaPasu</th>\n",
       "      <th>VozniskiStazVLetih</th>\n",
       "      <th>VozniskiStazVMesecih</th>\n",
       "      <th>VrednostAlkotesta</th>\n",
       "      <th>VrednostStrokovnegaPregleda</th>\n",
       "    </tr>\n",
       "  </thead>\n",
       "  <tbody>\n",
       "    <tr>\n",
       "      <th>0</th>\n",
       "      <td>1</td>\n",
       "      <td>Z MATERIALNO ŠKODO</td>\n",
       "      <td>MARIBOR</td>\n",
       "      <td>08.03.2022</td>\n",
       "      <td>12.05</td>\n",
       "      <td>NE</td>\n",
       "      <td>CESTA</td>\n",
       "      <td>REGIONALNA CESTA II. REDA</td>\n",
       "      <td>00430</td>\n",
       "      <td>PESNICA-MB-SL.BISTR-CELJE</td>\n",
       "      <td>...</td>\n",
       "      <td>MOŠKI</td>\n",
       "      <td>MARIBOR</td>\n",
       "      <td>SLOVENIJA</td>\n",
       "      <td>BREZ POŠKODBE</td>\n",
       "      <td>VOZNIK OSEBNEGA AVTOMOBILA</td>\n",
       "      <td>DA</td>\n",
       "      <td>0</td>\n",
       "      <td>0</td>\n",
       "      <td>,00</td>\n",
       "      <td>,00</td>\n",
       "    </tr>\n",
       "    <tr>\n",
       "      <th>1</th>\n",
       "      <td>1</td>\n",
       "      <td>Z MATERIALNO ŠKODO</td>\n",
       "      <td>MARIBOR</td>\n",
       "      <td>08.03.2022</td>\n",
       "      <td>12.05</td>\n",
       "      <td>NE</td>\n",
       "      <td>CESTA</td>\n",
       "      <td>REGIONALNA CESTA II. REDA</td>\n",
       "      <td>00430</td>\n",
       "      <td>PESNICA-MB-SL.BISTR-CELJE</td>\n",
       "      <td>...</td>\n",
       "      <td>MOŠKI</td>\n",
       "      <td>MARIBOR</td>\n",
       "      <td>SLOVENIJA</td>\n",
       "      <td>BREZ POŠKODBE</td>\n",
       "      <td>VOZNIK OSEBNEGA AVTOMOBILA</td>\n",
       "      <td>NEZNANO</td>\n",
       "      <td>39</td>\n",
       "      <td>11</td>\n",
       "      <td>,00</td>\n",
       "      <td>,00</td>\n",
       "    </tr>\n",
       "    <tr>\n",
       "      <th>2</th>\n",
       "      <td>2</td>\n",
       "      <td>Z MATERIALNO ŠKODO</td>\n",
       "      <td>ŠMARJE PRI JELŠAH</td>\n",
       "      <td>01.01.2022</td>\n",
       "      <td>21.46</td>\n",
       "      <td>DA</td>\n",
       "      <td>CESTA</td>\n",
       "      <td>GLAVNA CESTA II. REDA</td>\n",
       "      <td>00107</td>\n",
       "      <td>CELJE-ŠENTJ PRI C-DOBOVEC</td>\n",
       "      <td>...</td>\n",
       "      <td>MOŠKI</td>\n",
       "      <td>NaN</td>\n",
       "      <td>BOSNA IN HERCEGOVINA</td>\n",
       "      <td>BREZ POŠKODBE</td>\n",
       "      <td>VOZNIK OSEBNEGA AVTOMOBILA</td>\n",
       "      <td>DA</td>\n",
       "      <td>15</td>\n",
       "      <td>3</td>\n",
       "      <td>,00</td>\n",
       "      <td>,00</td>\n",
       "    </tr>\n",
       "    <tr>\n",
       "      <th>3</th>\n",
       "      <td>3</td>\n",
       "      <td>Z MATERIALNO ŠKODO</td>\n",
       "      <td>CELJE</td>\n",
       "      <td>01.01.2022</td>\n",
       "      <td>13.08</td>\n",
       "      <td>NE</td>\n",
       "      <td>CESTA</td>\n",
       "      <td>AVTOCESTA</td>\n",
       "      <td>000A1</td>\n",
       "      <td>ŠENTILJ-MB-CE-LJ-PO-SRMIN</td>\n",
       "      <td>...</td>\n",
       "      <td>MOŠKI</td>\n",
       "      <td>KRANJ</td>\n",
       "      <td>SLOVENIJA</td>\n",
       "      <td>BREZ POŠKODBE</td>\n",
       "      <td>VOZNIK OSEBNEGA AVTOMOBILA</td>\n",
       "      <td>DA</td>\n",
       "      <td>17</td>\n",
       "      <td>0</td>\n",
       "      <td>,36</td>\n",
       "      <td>,00</td>\n",
       "    </tr>\n",
       "    <tr>\n",
       "      <th>4</th>\n",
       "      <td>3</td>\n",
       "      <td>Z MATERIALNO ŠKODO</td>\n",
       "      <td>CELJE</td>\n",
       "      <td>01.01.2022</td>\n",
       "      <td>13.08</td>\n",
       "      <td>NE</td>\n",
       "      <td>CESTA</td>\n",
       "      <td>AVTOCESTA</td>\n",
       "      <td>000A1</td>\n",
       "      <td>ŠENTILJ-MB-CE-LJ-PO-SRMIN</td>\n",
       "      <td>...</td>\n",
       "      <td>MOŠKI</td>\n",
       "      <td>CELJE</td>\n",
       "      <td>SLOVENIJA</td>\n",
       "      <td>BREZ POŠKODBE</td>\n",
       "      <td>VOZNIK OSEBNEGA AVTOMOBILA</td>\n",
       "      <td>DA</td>\n",
       "      <td>11</td>\n",
       "      <td>0</td>\n",
       "      <td>,00</td>\n",
       "      <td>,00</td>\n",
       "    </tr>\n",
       "  </tbody>\n",
       "</table>\n",
       "<p>5 rows × 35 columns</p>\n",
       "</div>"
      ],
      "text/plain": [
       "   ZaporednaStevilkaPN KlasifikacijaNesrece UpravnaEnotaStoritve     DatumPN  \\\n",
       "0                    1   Z MATERIALNO ŠKODO              MARIBOR  08.03.2022   \n",
       "1                    1   Z MATERIALNO ŠKODO              MARIBOR  08.03.2022   \n",
       "2                    2   Z MATERIALNO ŠKODO    ŠMARJE PRI JELŠAH  01.01.2022   \n",
       "3                    3   Z MATERIALNO ŠKODO                CELJE  01.01.2022   \n",
       "4                    3   Z MATERIALNO ŠKODO                CELJE  01.01.2022   \n",
       "\n",
       "   UraPN VNaselju Lokacija          VrstaCesteNaselja SifraCesteNaselja  \\\n",
       "0  12.05       NE    CESTA  REGIONALNA CESTA II. REDA             00430   \n",
       "1  12.05       NE    CESTA  REGIONALNA CESTA II. REDA             00430   \n",
       "2  21.46       DA    CESTA      GLAVNA CESTA II. REDA             00107   \n",
       "3  13.08       NE    CESTA                  AVTOCESTA             000A1   \n",
       "4  13.08       NE    CESTA                  AVTOCESTA             000A1   \n",
       "\n",
       "           TekstCesteNaselja  ...   Spol UEStalnegaPrebivalisca  \\\n",
       "0  PESNICA-MB-SL.BISTR-CELJE  ...  MOŠKI                MARIBOR   \n",
       "1  PESNICA-MB-SL.BISTR-CELJE  ...  MOŠKI                MARIBOR   \n",
       "2  CELJE-ŠENTJ PRI C-DOBOVEC  ...  MOŠKI                    NaN   \n",
       "3  ŠENTILJ-MB-CE-LJ-PO-SRMIN  ...  MOŠKI                  KRANJ   \n",
       "4  ŠENTILJ-MB-CE-LJ-PO-SRMIN  ...  MOŠKI                  CELJE   \n",
       "\n",
       "          Drzavljanstvo PoskodbaUdelezenca             VrstaUdelezenca  \\\n",
       "0             SLOVENIJA      BREZ POŠKODBE  VOZNIK OSEBNEGA AVTOMOBILA   \n",
       "1             SLOVENIJA      BREZ POŠKODBE  VOZNIK OSEBNEGA AVTOMOBILA   \n",
       "2  BOSNA IN HERCEGOVINA      BREZ POŠKODBE  VOZNIK OSEBNEGA AVTOMOBILA   \n",
       "3             SLOVENIJA      BREZ POŠKODBE  VOZNIK OSEBNEGA AVTOMOBILA   \n",
       "4             SLOVENIJA      BREZ POŠKODBE  VOZNIK OSEBNEGA AVTOMOBILA   \n",
       "\n",
       "  UporabaVarnostnegaPasu VozniskiStazVLetih VozniskiStazVMesecih  \\\n",
       "0                     DA                  0                    0   \n",
       "1                NEZNANO                 39                   11   \n",
       "2                     DA                 15                    3   \n",
       "3                     DA                 17                    0   \n",
       "4                     DA                 11                    0   \n",
       "\n",
       "  VrednostAlkotesta VrednostStrokovnegaPregleda  \n",
       "0               ,00                         ,00  \n",
       "1               ,00                         ,00  \n",
       "2               ,00                         ,00  \n",
       "3               ,36                         ,00  \n",
       "4               ,00                         ,00  \n",
       "\n",
       "[5 rows x 35 columns]"
      ]
     },
     "execution_count": 28,
     "metadata": {},
     "output_type": "execute_result"
    }
   ],
   "source": [
    "data.loc[data[\"GeoKoordinataX\"] == 0, \"GeoKoordinataX\"] = np.nan\n",
    "data.loc[data[\"GeoKoordinataY\"] == 0, \"GeoKoordinataY\"] = np.nan\n",
    "data.head()"
   ]
  },
  {
   "cell_type": "code",
   "execution_count": 29,
   "metadata": {},
   "outputs": [
    {
     "data": {
      "text/plain": [
       "Index(['ZaporednaStevilkaPN', 'KlasifikacijaNesrece', 'UpravnaEnotaStoritve',\n",
       "       'DatumPN', 'UraPN', 'VNaselju', 'Lokacija', 'VrstaCesteNaselja',\n",
       "       'SifraCesteNaselja', 'TekstCesteNaselja', 'SifraOdsekaUlice',\n",
       "       'TekstOdsekaUlice', 'StacionazaDogodka', 'OpisKraja', 'VzrokNesrece',\n",
       "       'TipNesrece', 'VremenskeOkoliscine', 'StanjePrometa', 'StanjeVozisca',\n",
       "       'VrstaVozisca', 'GeoKoordinataX', 'GeoKoordinataY',\n",
       "       'ZaporednaStevilkaOsebeVPN', 'Povzrocitelj', 'Starost', 'Spol',\n",
       "       'UEStalnegaPrebivalisca', 'Drzavljanstvo', 'PoskodbaUdelezenca',\n",
       "       'VrstaUdelezenca', 'UporabaVarnostnegaPasu', 'VozniskiStazVLetih',\n",
       "       'VozniskiStazVMesecih', 'VrednostAlkotesta',\n",
       "       'VrednostStrokovnegaPregleda'],\n",
       "      dtype='object')"
      ]
     },
     "execution_count": 29,
     "metadata": {},
     "output_type": "execute_result"
    }
   ],
   "source": [
    "data.columns"
   ]
  },
  {
   "cell_type": "code",
   "execution_count": 30,
   "metadata": {},
   "outputs": [],
   "source": [
    "x_coords = data[\"GeoKoordinataX\"].values\n",
    "y_coords = data[\"GeoKoordinataY\"].values"
   ]
  },
  {
   "cell_type": "code",
   "execution_count": 31,
   "metadata": {},
   "outputs": [
    {
     "data": {
      "text/plain": [
       "array([    nan,     nan, 120644., ...,  81712.,     nan, 156726.])"
      ]
     },
     "execution_count": 31,
     "metadata": {},
     "output_type": "execute_result"
    }
   ],
   "source": [
    "x_coords"
   ]
  },
  {
   "cell_type": "code",
   "execution_count": 32,
   "metadata": {},
   "outputs": [],
   "source": [
    "# transform coordinates\n",
    "\n",
    "transformer = Transformer.from_crs(\"EPSG:3794\", \"EPSG:4326\", always_xy=True)\n",
    "\n",
    "transformed_coords = [transformer.transform(y, x) for x, y in zip(x_coords, y_coords)]  # important: had to swap x and y"
   ]
  },
  {
   "cell_type": "code",
   "execution_count": 33,
   "metadata": {},
   "outputs": [
    {
     "data": {
      "text/html": [
       "<div>\n",
       "<style scoped>\n",
       "    .dataframe tbody tr th:only-of-type {\n",
       "        vertical-align: middle;\n",
       "    }\n",
       "\n",
       "    .dataframe tbody tr th {\n",
       "        vertical-align: top;\n",
       "    }\n",
       "\n",
       "    .dataframe thead th {\n",
       "        text-align: right;\n",
       "    }\n",
       "</style>\n",
       "<table border=\"1\" class=\"dataframe\">\n",
       "  <thead>\n",
       "    <tr style=\"text-align: right;\">\n",
       "      <th></th>\n",
       "      <th>GeoKoordinataX</th>\n",
       "      <th>GeoKoordinataY</th>\n",
       "      <th>coords</th>\n",
       "    </tr>\n",
       "  </thead>\n",
       "  <tbody>\n",
       "    <tr>\n",
       "      <th>0</th>\n",
       "      <td>NaN</td>\n",
       "      <td>NaN</td>\n",
       "      <td>(nan, nan)</td>\n",
       "    </tr>\n",
       "    <tr>\n",
       "      <th>1</th>\n",
       "      <td>NaN</td>\n",
       "      <td>NaN</td>\n",
       "      <td>(nan, nan)</td>\n",
       "    </tr>\n",
       "    <tr>\n",
       "      <th>2</th>\n",
       "      <td>120644.0</td>\n",
       "      <td>555860.0</td>\n",
       "      <td>(15.72410637339776, 46.223252447553946)</td>\n",
       "    </tr>\n",
       "    <tr>\n",
       "      <th>3</th>\n",
       "      <td>123903.0</td>\n",
       "      <td>524585.0</td>\n",
       "      <td>(15.31887259105871, 46.25442303214855)</td>\n",
       "    </tr>\n",
       "    <tr>\n",
       "      <th>4</th>\n",
       "      <td>123903.0</td>\n",
       "      <td>524585.0</td>\n",
       "      <td>(15.31887259105871, 46.25442303214855)</td>\n",
       "    </tr>\n",
       "    <tr>\n",
       "      <th>...</th>\n",
       "      <td>...</td>\n",
       "      <td>...</td>\n",
       "      <td>...</td>\n",
       "    </tr>\n",
       "    <tr>\n",
       "      <th>33328</th>\n",
       "      <td>63249.0</td>\n",
       "      <td>410207.0</td>\n",
       "      <td>(13.846861839337338, 45.70330313587354)</td>\n",
       "    </tr>\n",
       "    <tr>\n",
       "      <th>33329</th>\n",
       "      <td>104835.0</td>\n",
       "      <td>459689.0</td>\n",
       "      <td>(14.478787741615621, 46.08211735765612)</td>\n",
       "    </tr>\n",
       "    <tr>\n",
       "      <th>33330</th>\n",
       "      <td>81712.0</td>\n",
       "      <td>525135.0</td>\n",
       "      <td>(15.323779213234845, 45.87479373217287)</td>\n",
       "    </tr>\n",
       "    <tr>\n",
       "      <th>33331</th>\n",
       "      <td>NaN</td>\n",
       "      <td>NaN</td>\n",
       "      <td>(nan, nan)</td>\n",
       "    </tr>\n",
       "    <tr>\n",
       "      <th>33332</th>\n",
       "      <td>156726.0</td>\n",
       "      <td>549456.0</td>\n",
       "      <td>(15.64490927889449, 46.548358582361885)</td>\n",
       "    </tr>\n",
       "  </tbody>\n",
       "</table>\n",
       "<p>33333 rows × 3 columns</p>\n",
       "</div>"
      ],
      "text/plain": [
       "       GeoKoordinataX  GeoKoordinataY                                   coords\n",
       "0                 NaN             NaN                               (nan, nan)\n",
       "1                 NaN             NaN                               (nan, nan)\n",
       "2            120644.0        555860.0  (15.72410637339776, 46.223252447553946)\n",
       "3            123903.0        524585.0   (15.31887259105871, 46.25442303214855)\n",
       "4            123903.0        524585.0   (15.31887259105871, 46.25442303214855)\n",
       "...               ...             ...                                      ...\n",
       "33328         63249.0        410207.0  (13.846861839337338, 45.70330313587354)\n",
       "33329        104835.0        459689.0  (14.478787741615621, 46.08211735765612)\n",
       "33330         81712.0        525135.0  (15.323779213234845, 45.87479373217287)\n",
       "33331             NaN             NaN                               (nan, nan)\n",
       "33332        156726.0        549456.0  (15.64490927889449, 46.548358582361885)\n",
       "\n",
       "[33333 rows x 3 columns]"
      ]
     },
     "execution_count": 33,
     "metadata": {},
     "output_type": "execute_result"
    }
   ],
   "source": [
    "data[\"coords\"] = pd.Series(transformed_coords)\n",
    "data[[\"GeoKoordinataX\", \"GeoKoordinataY\", \"coords\"]]"
   ]
  },
  {
   "cell_type": "code",
   "execution_count": 34,
   "metadata": {},
   "outputs": [],
   "source": [
    "data[\"geo_x\"] = data[\"coords\"].apply(lambda x: x[0])\n",
    "data[\"geo_y\"] = data[\"coords\"].apply(lambda x: x[1])"
   ]
  },
  {
   "cell_type": "code",
   "execution_count": 35,
   "metadata": {},
   "outputs": [
    {
     "data": {
      "text/html": [
       "<div>\n",
       "<style scoped>\n",
       "    .dataframe tbody tr th:only-of-type {\n",
       "        vertical-align: middle;\n",
       "    }\n",
       "\n",
       "    .dataframe tbody tr th {\n",
       "        vertical-align: top;\n",
       "    }\n",
       "\n",
       "    .dataframe thead th {\n",
       "        text-align: right;\n",
       "    }\n",
       "</style>\n",
       "<table border=\"1\" class=\"dataframe\">\n",
       "  <thead>\n",
       "    <tr style=\"text-align: right;\">\n",
       "      <th></th>\n",
       "      <th>GeoKoordinataX</th>\n",
       "      <th>GeoKoordinataY</th>\n",
       "      <th>geo_x</th>\n",
       "      <th>geo_y</th>\n",
       "    </tr>\n",
       "  </thead>\n",
       "  <tbody>\n",
       "    <tr>\n",
       "      <th>0</th>\n",
       "      <td>NaN</td>\n",
       "      <td>NaN</td>\n",
       "      <td>NaN</td>\n",
       "      <td>NaN</td>\n",
       "    </tr>\n",
       "    <tr>\n",
       "      <th>1</th>\n",
       "      <td>NaN</td>\n",
       "      <td>NaN</td>\n",
       "      <td>NaN</td>\n",
       "      <td>NaN</td>\n",
       "    </tr>\n",
       "    <tr>\n",
       "      <th>2</th>\n",
       "      <td>120644.0</td>\n",
       "      <td>555860.0</td>\n",
       "      <td>15.724106</td>\n",
       "      <td>46.223252</td>\n",
       "    </tr>\n",
       "    <tr>\n",
       "      <th>3</th>\n",
       "      <td>123903.0</td>\n",
       "      <td>524585.0</td>\n",
       "      <td>15.318873</td>\n",
       "      <td>46.254423</td>\n",
       "    </tr>\n",
       "    <tr>\n",
       "      <th>4</th>\n",
       "      <td>123903.0</td>\n",
       "      <td>524585.0</td>\n",
       "      <td>15.318873</td>\n",
       "      <td>46.254423</td>\n",
       "    </tr>\n",
       "  </tbody>\n",
       "</table>\n",
       "</div>"
      ],
      "text/plain": [
       "   GeoKoordinataX  GeoKoordinataY      geo_x      geo_y\n",
       "0             NaN             NaN        NaN        NaN\n",
       "1             NaN             NaN        NaN        NaN\n",
       "2        120644.0        555860.0  15.724106  46.223252\n",
       "3        123903.0        524585.0  15.318873  46.254423\n",
       "4        123903.0        524585.0  15.318873  46.254423"
      ]
     },
     "execution_count": 35,
     "metadata": {},
     "output_type": "execute_result"
    }
   ],
   "source": [
    "data[[\"GeoKoordinataX\", \"GeoKoordinataY\", \"geo_x\", \"geo_y\"]].head()"
   ]
  },
  {
   "cell_type": "code",
   "execution_count": 36,
   "metadata": {},
   "outputs": [
    {
     "data": {
      "text/html": [
       "<div>\n",
       "<style scoped>\n",
       "    .dataframe tbody tr th:only-of-type {\n",
       "        vertical-align: middle;\n",
       "    }\n",
       "\n",
       "    .dataframe tbody tr th {\n",
       "        vertical-align: top;\n",
       "    }\n",
       "\n",
       "    .dataframe thead th {\n",
       "        text-align: right;\n",
       "    }\n",
       "</style>\n",
       "<table border=\"1\" class=\"dataframe\">\n",
       "  <thead>\n",
       "    <tr style=\"text-align: right;\">\n",
       "      <th></th>\n",
       "      <th>GeoKoordinataX</th>\n",
       "      <th>GeoKoordinataY</th>\n",
       "      <th>geo_x</th>\n",
       "      <th>geo_y</th>\n",
       "    </tr>\n",
       "  </thead>\n",
       "  <tbody>\n",
       "    <tr>\n",
       "      <th>min</th>\n",
       "      <td>33584.0</td>\n",
       "      <td>378759.0</td>\n",
       "      <td>13.426079</td>\n",
       "      <td>45.442012</td>\n",
       "    </tr>\n",
       "    <tr>\n",
       "      <th>max</th>\n",
       "      <td>190690.0</td>\n",
       "      <td>614927.0</td>\n",
       "      <td>16.498455</td>\n",
       "      <td>46.849253</td>\n",
       "    </tr>\n",
       "  </tbody>\n",
       "</table>\n",
       "</div>"
      ],
      "text/plain": [
       "     GeoKoordinataX  GeoKoordinataY      geo_x      geo_y\n",
       "min         33584.0        378759.0  13.426079  45.442012\n",
       "max        190690.0        614927.0  16.498455  46.849253"
      ]
     },
     "execution_count": 36,
     "metadata": {},
     "output_type": "execute_result"
    }
   ],
   "source": [
    "# check if coordinates lie in Slovenia bounds\n",
    "data[[\"GeoKoordinataX\", \"GeoKoordinataY\", \"geo_x\", \"geo_y\"]].describe().loc[[\"min\", \"max\"]]"
   ]
  },
  {
   "cell_type": "code",
   "execution_count": 37,
   "metadata": {},
   "outputs": [],
   "source": [
    "def cast_str_to_float(val):\n",
    "    try:\n",
    "        return float(val.replace(\",\", \".\"))\n",
    "    except Exception:\n",
    "        return np.nan"
   ]
  },
  {
   "cell_type": "code",
   "execution_count": 38,
   "metadata": {},
   "outputs": [],
   "source": [
    "str_bool_map = {\"DA\": True, \"NE\": False}\n",
    "\n",
    "def cast_str_to_bool(val):\n",
    "    return str_bool_map.get(val, np.nan)"
   ]
  },
  {
   "cell_type": "code",
   "execution_count": 39,
   "metadata": {},
   "outputs": [],
   "source": [
    "data[\"DatumPN\"] = pd.to_datetime(data[\"DatumPN\"], format=r\"%d.%m.%Y\")"
   ]
  },
  {
   "cell_type": "code",
   "execution_count": 40,
   "metadata": {},
   "outputs": [],
   "source": [
    "data['VrednostAlkotesta'] = data['VrednostAlkotesta'].apply(cast_str_to_float)\n",
    "data['VrednostStrokovnegaPregleda'] = data['VrednostStrokovnegaPregleda'].apply(cast_str_to_float)"
   ]
  },
  {
   "cell_type": "code",
   "execution_count": 41,
   "metadata": {},
   "outputs": [],
   "source": [
    "data['UporabaVarnostnegaPasu'] = data['UporabaVarnostnegaPasu'].apply(cast_str_to_bool)\n",
    "data['VNaselju'] = data['VNaselju'].apply(cast_str_to_bool)"
   ]
  },
  {
   "cell_type": "code",
   "execution_count": 42,
   "metadata": {},
   "outputs": [],
   "source": [
    "useless_cols = [\"coords\", \"GeoKoordinataX\", \"GeoKoordinataY\"]\n",
    "data = data.drop(columns=useless_cols)"
   ]
  },
  {
   "cell_type": "code",
   "execution_count": 43,
   "metadata": {},
   "outputs": [
    {
     "name": "stdout",
     "output_type": "stream",
     "text": [
      "Alkotest več kot 1.1, kar je 18 točk = odvzem vozniške:\n"
     ]
    },
    {
     "data": {
      "text/html": [
       "<div>\n",
       "<style scoped>\n",
       "    .dataframe tbody tr th:only-of-type {\n",
       "        vertical-align: middle;\n",
       "    }\n",
       "\n",
       "    .dataframe tbody tr th {\n",
       "        vertical-align: top;\n",
       "    }\n",
       "\n",
       "    .dataframe thead th {\n",
       "        text-align: right;\n",
       "    }\n",
       "</style>\n",
       "<table border=\"1\" class=\"dataframe\">\n",
       "  <thead>\n",
       "    <tr style=\"text-align: right;\">\n",
       "      <th></th>\n",
       "      <th>VrednostAlkotesta</th>\n",
       "    </tr>\n",
       "  </thead>\n",
       "  <tbody>\n",
       "    <tr>\n",
       "      <th>14</th>\n",
       "      <td>1.29</td>\n",
       "    </tr>\n",
       "    <tr>\n",
       "      <th>946</th>\n",
       "      <td>1.26</td>\n",
       "    </tr>\n",
       "    <tr>\n",
       "      <th>1010</th>\n",
       "      <td>2.28</td>\n",
       "    </tr>\n",
       "    <tr>\n",
       "      <th>1438</th>\n",
       "      <td>1.20</td>\n",
       "    </tr>\n",
       "    <tr>\n",
       "      <th>1479</th>\n",
       "      <td>1.14</td>\n",
       "    </tr>\n",
       "    <tr>\n",
       "      <th>...</th>\n",
       "      <td>...</td>\n",
       "    </tr>\n",
       "    <tr>\n",
       "      <th>31536</th>\n",
       "      <td>1.18</td>\n",
       "    </tr>\n",
       "    <tr>\n",
       "      <th>31596</th>\n",
       "      <td>1.56</td>\n",
       "    </tr>\n",
       "    <tr>\n",
       "      <th>32545</th>\n",
       "      <td>1.15</td>\n",
       "    </tr>\n",
       "    <tr>\n",
       "      <th>32801</th>\n",
       "      <td>1.18</td>\n",
       "    </tr>\n",
       "    <tr>\n",
       "      <th>32954</th>\n",
       "      <td>1.20</td>\n",
       "    </tr>\n",
       "  </tbody>\n",
       "</table>\n",
       "<p>114 rows × 1 columns</p>\n",
       "</div>"
      ],
      "text/plain": [
       "       VrednostAlkotesta\n",
       "14                  1.29\n",
       "946                 1.26\n",
       "1010                2.28\n",
       "1438                1.20\n",
       "1479                1.14\n",
       "...                  ...\n",
       "31536               1.18\n",
       "31596               1.56\n",
       "32545               1.15\n",
       "32801               1.18\n",
       "32954               1.20\n",
       "\n",
       "[114 rows x 1 columns]"
      ]
     },
     "execution_count": 43,
     "metadata": {},
     "output_type": "execute_result"
    }
   ],
   "source": [
    "print(\"Alkotest več kot 1.1, kar je 18 točk = odvzem vozniške:\")\n",
    "data[['VrednostAlkotesta']].query(\"VrednostAlkotesta >= 1.1\")"
   ]
  },
  {
   "cell_type": "code",
   "execution_count": 44,
   "metadata": {},
   "outputs": [
    {
     "name": "stdout",
     "output_type": "stream",
     "text": [
      "Število zabeleženih prometnih nesreč: 18757\n"
     ]
    }
   ],
   "source": [
    "print(f\"Število zabeleženih prometnih nesreč: {data['ZaporednaStevilkaPN'].nunique()}\")"
   ]
  },
  {
   "cell_type": "code",
   "execution_count": 45,
   "metadata": {},
   "outputs": [],
   "source": [
    "# save cleaned data to a file\n",
    "data.to_csv(\"cleaned_data.csv\")"
   ]
  },
  {
   "cell_type": "markdown",
   "metadata": {},
   "source": [
    "MALO POGLEJMO"
   ]
  },
  {
   "cell_type": "code",
   "execution_count": 46,
   "metadata": {},
   "outputs": [],
   "source": [
    "znani_povrzočitelj = ~data[\"Povzrocitelj\"].isnull()"
   ]
  },
  {
   "cell_type": "code",
   "execution_count": 47,
   "metadata": {},
   "outputs": [
    {
     "data": {
      "text/plain": [
       "VozniskiStazVLetih\n",
       "0                     9897\n",
       "1                      721\n",
       "3                      714\n",
       "4                      661\n",
       "22                     598\n",
       "                      ... \n",
       "69                       3\n",
       "68                       2\n",
       "67                       1\n",
       "71                       1\n",
       "77                       1\n",
       "Name: count, Length: 73, dtype: int64"
      ]
     },
     "execution_count": 47,
     "metadata": {},
     "output_type": "execute_result"
    }
   ],
   "source": [
    "data[znani_povrzočitelj][[\"VozniskiStazVLetih\"]].value_counts()"
   ]
  }
 ],
 "metadata": {
  "kernelspec": {
   "display_name": "venv",
   "language": "python",
   "name": "python3"
  },
  "language_info": {
   "codemirror_mode": {
    "name": "ipython",
    "version": 3
   },
   "file_extension": ".py",
   "mimetype": "text/x-python",
   "name": "python",
   "nbconvert_exporter": "python",
   "pygments_lexer": "ipython3",
   "version": "3.10.4"
  }
 },
 "nbformat": 4,
 "nbformat_minor": 2
}
